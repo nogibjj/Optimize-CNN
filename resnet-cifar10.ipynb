{
 "cells": [
  {
   "cell_type": "markdown",
   "metadata": {
    "id": "YoGqX4qYPNhs",
    "tags": []
   },
   "source": [
    "# Training ResNet on CIFAR-10\n",
    "The improved training pipeline for SimpleNN developed in Lab (2) still has limited performance. This is\n",
    "mainly because the SimpleNN has rather small capacity (learning capability) for CIFAR-10 task. Thus,\n",
    "in this lab we replace the SimpleNN model with a more advanced ResNet [3] architecture. We expect\n",
    "to see much higher accuracy on CIFAR-10 when using ResNets. Here, you may duplicate your jupyter\n",
    "notebook for Lab (2) as resnet-cifar10.ipynb to serve as a starting point."
   ]
  },
  {
   "cell_type": "markdown",
   "metadata": {
    "id": "a--nyXQwPNhu"
   },
   "source": [
    "### Question (a) (8 pts) \n",
    "\n",
    "Implement the ResNet-20 architecture by following Section 4.2 of the ResNet paper [3]. This\n",
    "lab is designed to have you learn how to implement a DNN model yourself, so do NOT borrow any\n",
    "code from online resource."
   ]
  },
  {
   "cell_type": "code",
   "execution_count": 1,
   "metadata": {
    "id": "mJUNwD4JPNhu"
   },
   "outputs": [],
   "source": [
    "# import necessary dependencies\n",
    "import argparse\n",
    "import os, sys\n",
    "import time\n",
    "import datetime\n",
    "from tqdm import tqdm_notebook as tqdm\n",
    "\n",
    "import torch\n",
    "import torch.nn as nn\n",
    "import torch.nn.functional as F\n",
    "import numpy as np"
   ]
  },
  {
   "cell_type": "code",
   "execution_count": 2,
   "metadata": {
    "id": "5ipjqaB2PNhu"
   },
   "outputs": [],
   "source": [
    "# define the ResNet model;\n",
    "class ResNet(nn.Module):\n",
    "    def __init__(self):\n",
    "        super(ResNet, self).__init__()\n",
    "        \n",
    "        # First layer of 3x3 conv\n",
    "        self.conv1 = nn.Conv2d(3, 16, 3, padding = \"same\")\n",
    "        \n",
    "        # Next six layers of 3x3 conv with 32x32 output maps\n",
    "        self.conv2 = nn.Conv2d(16, 16, 3, padding = \"same\")\n",
    "        self.conv3 = nn.Conv2d(16, 16, 3, padding = \"same\") # shortcut\n",
    "        self.conv4 = nn.Conv2d(16, 16, 3, padding = \"same\")\n",
    "        self.conv5 = nn.Conv2d(16, 16, 3, padding = \"same\") # shortcut\n",
    "        self.conv6 = nn.Conv2d(16, 16, 3, padding = \"same\")\n",
    "        self.conv7 = nn.Conv2d(16, 16, 3, padding = \"same\") # shortcut\n",
    "        \n",
    "        # Next six layers of 3x3 conv with 16x16 output maps\n",
    "        self.conv8 = nn.Conv2d(16, 32, 3, padding = (1,1), stride = 2)\n",
    "        self.conv9 = nn.Conv2d(32, 32, 3, padding = \"same\") # shortcut\n",
    "        self.conv10 = nn.Conv2d(32, 32, 3, padding = \"same\")\n",
    "        self.conv11 = nn.Conv2d(32, 32, 3, padding = \"same\") # shortcut\n",
    "        self.conv12 = nn.Conv2d(32, 32, 3, padding = \"same\")\n",
    "        self.conv13 = nn.Conv2d(32, 32, 3, padding = \"same\") # shortcut\n",
    "        \n",
    "        # Next six layers of 3x3 conv with 8x8 output maps\n",
    "        self.conv14 = nn.Conv2d(32, 64, 3, padding = (1,1), stride = 2)\n",
    "        self.conv15 = nn.Conv2d(64, 64, 3, padding = \"same\") # shortcut\n",
    "        self.conv16 = nn.Conv2d(64, 64, 3, padding = \"same\")\n",
    "        self.conv17 = nn.Conv2d(64, 64, 3, padding = \"same\") # shortcut\n",
    "        self.conv18 = nn.Conv2d(64, 64, 3, padding = \"same\")\n",
    "        self.conv19 = nn.Conv2d(64, 64, 3, padding = \"same\") # shortcut\n",
    "        \n",
    "        # Fully connected layers\n",
    "        self.fc = nn.Linear(64,10)\n",
    "        \n",
    "        # Batch Normalization Layers\n",
    "        self.bn1 = nn.BatchNorm2d(16)\n",
    "        self.bn2 = nn.BatchNorm2d(16)\n",
    "        self.bn3 = nn.BatchNorm2d(16)\n",
    "        self.bn4 = nn.BatchNorm2d(16)\n",
    "        self.bn5 = nn.BatchNorm2d(16)\n",
    "        self.bn6 = nn.BatchNorm2d(16)\n",
    "        self.bn7 = nn.BatchNorm2d(16)\n",
    "        self.bn8 = nn.BatchNorm2d(32)\n",
    "        self.bn9 = nn.BatchNorm2d(32)\n",
    "        self.bn10 = nn.BatchNorm2d(32)\n",
    "        self.bn11 = nn.BatchNorm2d(32)\n",
    "        self.bn12 = nn.BatchNorm2d(32)\n",
    "        self.bn13 = nn.BatchNorm2d(32)\n",
    "        self.bn14 = nn.BatchNorm2d(64)\n",
    "        self.bn15 = nn.BatchNorm2d(64)\n",
    "        self.bn16 = nn.BatchNorm2d(64)\n",
    "        self.bn17 = nn.BatchNorm2d(64)\n",
    "        self.bn18 = nn.BatchNorm2d(64)\n",
    "        self.bn19 = nn.BatchNorm2d(64)\n",
    "\n",
    "    def forward(self, x):\n",
    "        # First convolution layer\n",
    "        out_sc1 = F.relu(self.bn1(self.conv1(x)))\n",
    "        \n",
    "        # Next 6 with 32x32 maps, 16 filters\n",
    "        out = F.relu(self.bn2(self.conv2(out_sc1)))\n",
    "        out_sc2 = F.relu(self.bn3(self.conv3(out)) + out_sc1)\n",
    "        out = F.relu(self.bn4(self.conv4(out_sc2)))\n",
    "        out_sc3 = F.relu(self.bn5(self.conv5(out)) + out_sc2)\n",
    "        out = F.relu(self.bn6(self.conv6(out_sc3)))\n",
    "        out_sc4 = F.relu(self.bn7(self.conv7(out)) + out_sc3)\n",
    "        \n",
    "        # Next 6 with 16x16 maps, 32 filters\n",
    "        out = F.relu(self.bn8(self.conv8(out_sc4)))\n",
    "        out_sc4 = F.max_pool2d(out_sc4, 2)\n",
    "        out_sc4 = F.pad(out_sc4, (0, 0, 0, 0, 0, 16))\n",
    "        out_sc5 = F.relu(self.bn9(self.conv9(out)) + out_sc4)\n",
    "        out = F.relu(self.bn10(self.conv10(out_sc5)))\n",
    "        out_sc6 = F.relu(self.bn11(self.conv11(out)) + out_sc5)\n",
    "        out = F.relu(self.bn12(self.conv12(out_sc6)))\n",
    "        out_sc7 = F.relu(self.bn13(self.conv13(out)) + out_sc6)\n",
    "        \n",
    "        # Next 6 with 8x8 maps, 64 filters\n",
    "        out = F.relu(self.bn14(self.conv14(out_sc7)))\n",
    "        out_sc7 = F.max_pool2d(out_sc7, 2)\n",
    "        out_sc7 = F.pad(out_sc7, (0, 0, 0, 0, 0, 32))\n",
    "        out_sc8 = F.relu(self.bn15(self.conv15(out)) + out_sc7)\n",
    "        out = F.relu(self.bn16(self.conv16(out_sc8)))\n",
    "        out_sc9 = F.relu(self.bn17(self.conv17(out)) + out_sc8)\n",
    "        out = F.relu(self.bn18(self.conv18(out_sc9)))\n",
    "        out = F.relu(self.bn19(self.conv19(out)) + out_sc9)\n",
    "        \n",
    "        # Average pooling to get size 64 tensors\n",
    "        out = F.avg_pool2d(out, 8)\n",
    "        # Flatten the output tensor\n",
    "        out = out.view(out.size(0), -1)\n",
    "        # Fully-Connected Layer\n",
    "        out = self.fc(out)\n",
    "        return out"
   ]
  },
  {
   "cell_type": "markdown",
   "metadata": {
    "id": "jA_wXTHqPNhu"
   },
   "source": [
    "### Question (a)\n",
    "Here is a sanity check to verify the implementation of SimpleNN.\n",
    "You need to:\n",
    "1. Write down your code.\n",
    "2. **In the PDF report**, give a brief description on how the code helps you know that SimpleNN is implemented correctly."
   ]
  },
  {
   "cell_type": "code",
   "execution_count": 3,
   "metadata": {
    "colab": {
     "base_uri": "https://localhost:8080/"
    },
    "id": "9Y0c8XrKPNhv",
    "outputId": "f3316568-753a-4ef2-c56f-5b63f47096b1"
   },
   "outputs": [
    {
     "name": "stdout",
     "output_type": "stream",
     "text": [
      "Forward pass successful\n"
     ]
    }
   ],
   "source": [
    "#############################################\n",
    "# your code here\n",
    "# sanity check for the correctness of SimpleNN\n",
    "\n",
    "## Create random data to pass through the SimpleNN architecture\n",
    "random_data = torch.randn(1,3,32,32)\n",
    "## Create an example network to test on\n",
    "test_network = ResNet()\n",
    "## Feed the sample data into the network to get test result\n",
    "test_out = test_network(random_data)\n",
    "## Check to make sure that the output has shape 1x10\n",
    "assert(test_out.detach().cpu().numpy().shape == (1,10))\n",
    "print(\"Forward pass successful\")\n",
    "\n",
    "# ## Count the number of parameters in each layer\n",
    "# for name, parameters in test_network.named_parameters():\n",
    "#   ## Print the shape of the parameter vector for each layer\n",
    "#   print(f'{name:10}: {str(parameters.shape):10}')\n",
    "# #############################################"
   ]
  },
  {
   "cell_type": "markdown",
   "metadata": {
    "id": "2x0ra2E82SpB"
   },
   "source": [
    "> Here, I used one batch of random data in the format of 3 layers (RBG) each having 32x32 pixels to pass through the constructed SimpleNN structure. To verify that the pass was successful, I checked to make sure that the output has is in shape 1x10.\n",
    ">\n",
    "> And to verify the structure of the layers, I checked the shape of the parameters in the network to make sure they align with my expectations of what was inputted in the SimpleNN structure."
   ]
  },
  {
   "cell_type": "markdown",
   "metadata": {
    "id": "MtqmbKfmPNhv"
   },
   "source": [
    "## Step 1: Set up preprocessing functions\n",
    "Preprocessing is very important as discussed in the lecture.\n",
    "You will need to write preprocessing functions with the help of *torchvision.transforms* in this step.\n",
    "You can find helpful tutorial/API at [here](https://pytorch.org/vision/stable/transforms.html)."
   ]
  },
  {
   "cell_type": "markdown",
   "metadata": {
    "id": "5rw5VSW7PNhv"
   },
   "source": [
    "### Question (b)\n",
    "For the question, you need to:\n",
    "1. Complete the preprocessing code below.\n",
    "2. **In the PDF report**, briefly describe what preprocessing operations you used and what are the purposes of them.\n",
    "\n",
    "Hint:\n",
    "1. Only two operations are necessary to complete the basic preprocessing here.\n",
    "2. The raw input read from the dataset will be PIL images.\n",
    "3. Data augmentation operations are not mendatory, but feel free to incorporate them if you want.\n",
    "4. Reference value for mean/std of CIFAR-10 images (assuming the pixel values are within [0,1]): mean (RGB-format): (0.4914, 0.4822, 0.4465), std (RGB-format): (0.2023, 0.1994, 0.2010)"
   ]
  },
  {
   "cell_type": "code",
   "execution_count": 4,
   "metadata": {
    "id": "8HuX0_n4PNhv"
   },
   "outputs": [],
   "source": [
    "# useful libraries\n",
    "import torchvision\n",
    "import torchvision.transforms as transforms\n",
    "\n",
    "#############################################\n",
    "# your code here\n",
    "# specify preprocessing function\n",
    "transform_train = transforms.Compose(\n",
    "    [transforms.ToTensor(),\n",
    "    transforms.Normalize((0.4914, 0.4822, 0.4465), (0.2023, 0.1994, 0.2010)),\n",
    "    transforms.RandomCrop(size = 32, padding = 4),\n",
    "    transforms.RandomHorizontalFlip()]\n",
    "    )\n",
    "transform_val = transforms.Compose(\n",
    "    [transforms.ToTensor(),\n",
    "    transforms.Normalize((0.4914, 0.4822, 0.4465), (0.2023, 0.1994, 0.2010))]\n",
    "    )\n",
    "#############################################"
   ]
  },
  {
   "cell_type": "markdown",
   "metadata": {
    "id": "7vJA2xJC3zKn"
   },
   "source": [
    "> In this operation I used random to crop out 7 pixels from the center and then random horizontal flips with a probability of 0.5."
   ]
  },
  {
   "cell_type": "markdown",
   "metadata": {
    "id": "y3x3TMaUPNhv"
   },
   "source": [
    "## Step 2: Set up dataset and dataloader\n",
    "\n",
    "### Question (c)\n",
    "Set up the train/val datasets and dataloders that are to be used during the training. Check out the [official API](https://pytorch.org/docs/stable/data.html) for more information about **torch.utils.data.DataLoader**.\n",
    "\n",
    "Here, you need to:\n",
    "1. Complete the code below."
   ]
  },
  {
   "cell_type": "code",
   "execution_count": 5,
   "metadata": {
    "colab": {
     "base_uri": "https://localhost:8080/"
    },
    "id": "NegLXnRDvNK1",
    "outputId": "fdafcf61-89b1-4555-f827-c7422b17bdf3"
   },
   "outputs": [],
   "source": [
    "# Unzip the tools zipfile\n",
    "# !unzip tools.zip"
   ]
  },
  {
   "cell_type": "code",
   "execution_count": 6,
   "metadata": {
    "colab": {
     "base_uri": "https://localhost:8080/"
    },
    "id": "BIAdG_ZHPNhv",
    "outputId": "74d13131-1ca1-45f5-fc2b-6353ec9863bd"
   },
   "outputs": [
    {
     "name": "stdout",
     "output_type": "stream",
     "text": [
      "Using downloaded and verified file: ./data/cifar10_trainval_F22.zip\n",
      "Extracting ./data/cifar10_trainval_F22.zip to ./data\n",
      "Files already downloaded and verified\n",
      "Using downloaded and verified file: ./data/cifar10_trainval_F22.zip\n",
      "Extracting ./data/cifar10_trainval_F22.zip to ./data\n",
      "Files already downloaded and verified\n"
     ]
    }
   ],
   "source": [
    "# do NOT change these\n",
    "from tools.dataset import CIFAR10\n",
    "from torch.utils.data import DataLoader\n",
    "\n",
    "# a few arguments, do NOT change these\n",
    "DATA_ROOT = \"./data\"\n",
    "TRAIN_BATCH_SIZE = 128\n",
    "VAL_BATCH_SIZE = 100\n",
    "\n",
    "#############################################\n",
    "# your code here\n",
    "# construct dataset\n",
    "train_set = CIFAR10(\n",
    "    root=DATA_ROOT,\n",
    "    mode='train',\n",
    "    download=True,\n",
    "    transform=transform_train    # your code\n",
    ")\n",
    "val_set = CIFAR10(\n",
    "    root=DATA_ROOT,\n",
    "    mode='val',\n",
    "    download=True,\n",
    "    transform=transform_val    # your code\n",
    ")\n",
    "\n",
    "# construct dataloader\n",
    "train_loader = DataLoader(\n",
    "    train_set,\n",
    "    batch_size=TRAIN_BATCH_SIZE,  # your code\n",
    "    shuffle=True,     # your code\n",
    "    num_workers=4\n",
    ")\n",
    "val_loader = DataLoader(\n",
    "    val_set,\n",
    "    batch_size=VAL_BATCH_SIZE,  # your code\n",
    "    shuffle=True,     # your code\n",
    "    num_workers=4\n",
    ")\n",
    "#############################################"
   ]
  },
  {
   "cell_type": "markdown",
   "metadata": {
    "id": "ITSK4usyPNhv"
   },
   "source": [
    "## Step 3: Instantiate your SimpleNN model and deploy it to GPU devices.\n",
    "### Question (d)\n",
    "You may want to deploy your model to GPU device for efficient training. Please assign your model to GPU if possible. If you are training on a machine without GPUs, please deploy your model to CPUs.\n",
    "\n",
    "Here, you need to:\n",
    "1. Complete the code below.\n",
    "2. **In the PDF report**, briefly describe how you verify that your model is indeed deployed on GPU. (Hint: check $\\texttt{nvidia-smi}$.)"
   ]
  },
  {
   "cell_type": "code",
   "execution_count": 7,
   "metadata": {
    "colab": {
     "base_uri": "https://localhost:8080/"
    },
    "id": "wIYANvVZPNhv",
    "outputId": "7c0852af-b654-4485-8065-e9a32eb7a872"
   },
   "outputs": [
    {
     "name": "stdout",
     "output_type": "stream",
     "text": [
      "Run on GPU...\n"
     ]
    }
   ],
   "source": [
    "# specify the device for computation\n",
    "#############################################\n",
    "# your code here\n",
    "\n",
    "# GPU check\n",
    "device = 'cuda' if torch.cuda.is_available() else 'cpu'\n",
    "if device =='cuda':\n",
    "    print(\"Run on GPU...\")\n",
    "else:\n",
    "    print(\"Run on CPU...\")\n",
    "#############################################\n"
   ]
  },
  {
   "cell_type": "code",
   "execution_count": 8,
   "metadata": {},
   "outputs": [
    {
     "name": "stdout",
     "output_type": "stream",
     "text": [
      "Mon Oct  2 22:51:27 2023       \n",
      "+-----------------------------------------------------------------------------+\n",
      "| NVIDIA-SMI 495.29.05    Driver Version: 470.129.06   CUDA Version: 11.4     |\n",
      "|-------------------------------+----------------------+----------------------+\n",
      "| GPU  Name        Persistence-M| Bus-Id        Disp.A | Volatile Uncorr. ECC |\n",
      "| Fan  Temp  Perf  Pwr:Usage/Cap|         Memory-Usage | GPU-Util  Compute M. |\n",
      "|                               |                      |               MIG M. |\n",
      "|===============================+======================+======================|\n",
      "|   0  NVIDIA TITAN Xp     On   | 00000000:1B:00.0 Off |                  N/A |\n",
      "| 23%   32C    P2    66W / 250W |    897MiB /  2439MiB |      9%      Default |\n",
      "|                               |                      |                  N/A |\n",
      "+-------------------------------+----------------------+----------------------+\n",
      "                                                                               \n",
      "+-----------------------------------------------------------------------------+\n",
      "| Processes:                                                                  |\n",
      "|  GPU   GI   CI        PID   Type   Process name                  GPU Memory |\n",
      "|        ID   ID                                                   Usage      |\n",
      "|=============================================================================|\n",
      "|  No running processes found                                                 |\n",
      "+-----------------------------------------------------------------------------+\n"
     ]
    }
   ],
   "source": [
    "!nvidia-smi"
   ]
  },
  {
   "cell_type": "markdown",
   "metadata": {
    "id": "aIk0cWhEPNhv"
   },
   "source": [
    "## Step 4: Set up the loss function and optimizer\n",
    "Loss function/objective function is used to provide \"feedback\" for the neural networks. Typically, we use multi-class cross-entropy as the loss function for classification models. As for the optimizer, we will use SGD with momentum."
   ]
  },
  {
   "cell_type": "markdown",
   "metadata": {
    "id": "cTWJ517-PNhv"
   },
   "source": [
    "### Question (e)\n",
    "Here, you need to:\n",
    "1. Set up the cross-entropy loss as the criterion. (Hint: there are implemented functions in **torch.nn**)\n",
    "2. Specify a SGD optimizer with momentum. (Hint: there are implemented functions in **torch.optim**)"
   ]
  },
  {
   "cell_type": "code",
   "execution_count": 9,
   "metadata": {
    "id": "l0yZFHVBPNhv"
   },
   "outputs": [],
   "source": [
    "import torch.nn as nn\n",
    "import torch.optim as optim\n",
    "\n",
    "# hyperparameters, do NOT change right now\n",
    "# initial learning rate\n",
    "INITIAL_LR = 0.1\n",
    "\n",
    "# momentum for optimizer\n",
    "MOMENTUM = 0.9\n",
    "\n",
    "# L2 regularization strength\n",
    "REG = 5e-4\n",
    "\n",
    "#############################################\n",
    "# your code here\n",
    "model = ResNet()\n",
    "model.to(device)\n",
    "# create loss function\n",
    "criterion = nn.CrossEntropyLoss()\n",
    "# Add optimizer\n",
    "optimizer = optim.SGD(model.parameters(), lr = INITIAL_LR, weight_decay = REG)\n",
    "#############################################"
   ]
  },
  {
   "cell_type": "markdown",
   "metadata": {
    "id": "HNIQrsYePNhv"
   },
   "source": [
    "## Step 5: Start the training process.\n",
    "\n",
    "### Question (f)/(g)\n",
    "Congratulations! You have completed all of the previous steps and it is time to train our neural network.\n",
    "\n",
    "Here you need to:\n",
    "1. Complete the training codes.\n",
    "2. Actually perform the training.\n",
    "\n",
    "Hint: Training a neural network usually repeats the following 4 steps:\n",
    "\n",
    "**i) Get a batch of data from the dataloader and copy it to your device (GPU).**\n",
    "\n",
    "**ii) Do a forward pass to get the outputs from the neural network and compute the loss. Be careful about your inputs to the loss function. Are the inputs required to be the logits or softmax probabilities?)**\n",
    "\n",
    "**iii) Do a backward pass (back-propagation) to compute gradients of all weights with respect to the loss.**\n",
    "\n",
    "**iiii) Update the model weights with the optimizer.**\n",
    "\n",
    "You will also need to compute the accuracy of training/validation samples to track your model's performance over each epoch (the accuracy should be increasing as you train for more and more epochs).\n"
   ]
  },
  {
   "cell_type": "markdown",
   "metadata": {
    "id": "IT6ZFVh1PNhw"
   },
   "source": [
    "# Bonus: with learning rate decay\n",
    "\n",
    "The following code can help you adjust the learning rate during training. You need to figure out how to incorporate this code into your training loop.\n",
    "```python\n",
    "    if i % DECAY_EPOCHS == 0 and i != 0:\n",
    "        current_learning_rate = current_learning_rate * DECAY\n",
    "        for param_group in optimizer.param_groups:\n",
    "            param_group['lr'] = current_learning_rate\n",
    "        print(\"Current learning rate has decayed to %f\" %current_learning_rate)\n",
    "```"
   ]
  },
  {
   "cell_type": "code",
   "execution_count": 10,
   "metadata": {
    "id": "DK5hT4nMPNhv"
   },
   "outputs": [],
   "source": [
    "# total number of training epochs\n",
    "EPOCHS = 150\n",
    "# the folder where the trained model is saved\n",
    "CHECKPOINT_FOLDER = \"./saved_model_resnet\"\n",
    "## Set the scaler for the decay\n",
    "DECAY = 0.8\n",
    "\n",
    "# Define a function that trains the neural network we give it with given parameters\n",
    "def train_model(\n",
    "    model, EPOCHS, \n",
    "    CHECKPOINT_FOLDER, INITIAL_LR, \n",
    "    TRAIN_BATCH_SIZE, VAL_BATCH_SIZE,\n",
    "    DECAY_EPOCH = None, DECAY = None, \n",
    "    TRACK = False,\n",
    "    VERBOSE = False):\n",
    "    # some hyperparameters\n",
    "    # start the training/validation process\n",
    "    # the process should take about 5 minutes on a GTX 1070-Ti\n",
    "    # if the code is written efficiently.\n",
    "    best_val_acc = 0\n",
    "    current_learning_rate = INITIAL_LR\n",
    "    if VERBOSE:\n",
    "        print(\"==> Training starts!\")\n",
    "        print(\"=\"*50)\n",
    "    #Initiate training loss and validation loss trackers\n",
    "    train_tracker = []\n",
    "    val_tracker = []\n",
    "        \n",
    "    for i in range(0, EPOCHS):\n",
    "        # handle the learning rate scheduler.\n",
    "        if i % DECAY_EPOCHS == 0 and i != 0 and DECAY is not None:\n",
    "            current_learning_rate = current_learning_rate * DECAY\n",
    "            for param_group in optimizer.param_groups:\n",
    "                param_group['lr'] = current_learning_rate\n",
    "            if VERBOSE:\n",
    "                print(\"Current learning rate has decayed to %f\" %current_learning_rate)\n",
    "\n",
    "        #######################\n",
    "        # your code here\n",
    "        # switch to train mode\n",
    "        model.train()\n",
    "\n",
    "        #######################\n",
    "        if VERBOSE:\n",
    "            print(\"Epoch %d:\" %i)\n",
    "        # this help you compute the training accuracy\n",
    "        total_examples = 0\n",
    "        correct_examples = 0\n",
    "        \n",
    "        train_loss = 0 # track training loss if you want\n",
    "\n",
    "        # Train the model for 1 epoch.\n",
    "        for batch_idx, (inputs, targets) in enumerate(train_loader):\n",
    "            ####################################\n",
    "            # your code here\n",
    "            # copy inputs to device\n",
    "            inputs = inputs.to(device)\n",
    "            targets = targets.to(device)\n",
    "\n",
    "            # compute the output and loss\n",
    "            output = model(inputs)     \n",
    "            loss = criterion(output, targets)\n",
    "            train_loss += loss\n",
    "            # zero the gradient\n",
    "            optimizer.zero_grad()\n",
    "\n",
    "            # backpropagation\n",
    "            loss.backward()\n",
    "\n",
    "            # apply gradient and update the weights\n",
    "            optimizer.step()\n",
    "\n",
    "            # count the number of correctly predicted samples in the current batch\n",
    "            predicted = torch.argmax(output, 1)\n",
    "            correct_examples += (predicted == targets).sum().item()\n",
    "            total_examples += inputs.shape[0]\n",
    "            ####################################\n",
    "\n",
    "        avg_loss = train_loss / len(train_loader)\n",
    "        train_tracker.append(avg_loss)\n",
    "        avg_acc = correct_examples / total_examples\n",
    "        \n",
    "        if VERBOSE:\n",
    "            print(\"Training loss: %.4f, Training accuracy: %.4f\" %(avg_loss, avg_acc))\n",
    "\n",
    "        # Validate on the validation dataset\n",
    "        #######################\n",
    "        # your code here\n",
    "        # switch to eval mode\n",
    "        model.eval()\n",
    "\n",
    "        #######################\n",
    "\n",
    "        # this help you compute the validation accuracy\n",
    "        total_examples = VAL_BATCH_SIZE\n",
    "        correct_examples = 0\n",
    "\n",
    "        val_loss = 0 # again, track the validation loss if you want\n",
    "        val_loss_vec = []\n",
    "\n",
    "        # disable gradient during validation, which can save GPU memory\n",
    "        with torch.no_grad():\n",
    "            for batch_idx, (inputs, targets) in enumerate(val_loader):\n",
    "                ####################################\n",
    "                # your code here\n",
    "                # copy inputs to device\n",
    "                inputs = inputs.to(device)\n",
    "                targets = targets.to(device)\n",
    "\n",
    "                # compute the output and loss\n",
    "                output = model(inputs)\n",
    "                loss = criterion(output, targets)\n",
    "                val_loss += loss\n",
    "\n",
    "                # count the number of correctly predicted samples in the current batch\n",
    "                predicted = torch.argmax(output, 1)\n",
    "                correct_examples += (predicted == targets).sum().item()\n",
    "                total_examples += inputs.shape[0]\n",
    "                ####################################\n",
    "\n",
    "        avg_loss = val_loss / len(val_loader)\n",
    "        avg_acc = correct_examples / total_examples\n",
    "        val_tracker.append(avg_loss)\n",
    "        \n",
    "        if VERBOSE:\n",
    "            print(\"Validation loss: %.4f, Validation accuracy: %.4f\" % (avg_loss, avg_acc))\n",
    "\n",
    "        # save the model checkpoint\n",
    "        if avg_acc > best_val_acc:\n",
    "            best_val_acc = avg_acc\n",
    "            if not os.path.exists(CHECKPOINT_FOLDER):\n",
    "               os.makedirs(CHECKPOINT_FOLDER)\n",
    "            if VERBOSE:\n",
    "                print(\"Saving ...\")\n",
    "            state = {'state_dict': model.state_dict(),\n",
    "                    'epoch': i,\n",
    "                    'lr': current_learning_rate}\n",
    "            torch.save(state, os.path.join(CHECKPOINT_FOLDER, 'simplenn.pth'))\n",
    "        if VERBOSE:\n",
    "            print('')\n",
    "    print(\"=\"*50)\n",
    "    print(f\"==> Optimization finished! Best validation accuracy: {best_val_acc:.4f}\")\n",
    "    \n",
    "    # Return training loss vector if turned on\n",
    "    if TRACK:\n",
    "        return train_tracker, val_tracker"
   ]
  },
  {
   "cell_type": "markdown",
   "metadata": {},
   "source": [
    "## Train a resnet model"
   ]
  },
  {
   "cell_type": "code",
   "execution_count": 11,
   "metadata": {},
   "outputs": [
    {
     "ename": "NameError",
     "evalue": "name 'DECAY' is not defined",
     "output_type": "error",
     "traceback": [
      "\u001b[0;31m---------------------------------------------------------------------------\u001b[0m",
      "\u001b[0;31mNameError\u001b[0m                                 Traceback (most recent call last)",
      "\u001b[0;32m/tmp/ipykernel_107530/557585897.py\u001b[0m in \u001b[0;36m<module>\u001b[0;34m\u001b[0m\n\u001b[1;32m      2\u001b[0m     \u001b[0mmodel\u001b[0m\u001b[0;34m,\u001b[0m \u001b[0mEPOCHS\u001b[0m\u001b[0;34m,\u001b[0m \u001b[0mCHECKPOINT_FOLDER\u001b[0m\u001b[0;34m,\u001b[0m\u001b[0;34m\u001b[0m\u001b[0;34m\u001b[0m\u001b[0m\n\u001b[1;32m      3\u001b[0m     \u001b[0;36m0.1\u001b[0m\u001b[0;34m,\u001b[0m \u001b[0mTRAIN_BATCH_SIZE\u001b[0m\u001b[0;34m,\u001b[0m \u001b[0mVAL_BATCH_SIZE\u001b[0m\u001b[0;34m,\u001b[0m\u001b[0;34m\u001b[0m\u001b[0;34m\u001b[0m\u001b[0m\n\u001b[0;32m----> 4\u001b[0;31m     \u001b[0mDECAY_EPOCH\u001b[0m \u001b[0;34m=\u001b[0m \u001b[0;36m50\u001b[0m\u001b[0;34m,\u001b[0m \u001b[0mDECAY\u001b[0m \u001b[0;34m=\u001b[0m \u001b[0mDECAY\u001b[0m\u001b[0;34m,\u001b[0m\u001b[0;34m\u001b[0m\u001b[0;34m\u001b[0m\u001b[0m\n\u001b[0m\u001b[1;32m      5\u001b[0m     VERBOSE = True, TRACK = True)\n",
      "\u001b[0;31mNameError\u001b[0m: name 'DECAY' is not defined"
     ]
    }
   ],
   "source": [
    "train_track, val_track = train_model(\n",
    "    model, EPOCHS, CHECKPOINT_FOLDER, \n",
    "    0.1, TRAIN_BATCH_SIZE, VAL_BATCH_SIZE,\n",
    "    DECAY_EPOCH = 50, DECAY = DECAY,\n",
    "    VERBOSE = True, TRACK = True)"
   ]
  },
  {
   "cell_type": "code",
   "execution_count": null,
   "metadata": {},
   "outputs": [],
   "source": [
    "import matplotlib.pyplot as plt\n",
    "plt.plot(range(1, len(train_track)+1), train_track, label = \"Training Loss\")\n",
    "plt.plot(range(1, len(val_track)+1), val_track, label = \"Validation Loss\")\n",
    "plt.legend()\n",
    "plt.show()"
   ]
  },
  {
   "cell_type": "markdown",
   "metadata": {},
   "source": [
    "> By adding batch normalization after each convolution layer, we improved the best validation accuracy by "
   ]
  }
 ],
 "metadata": {
  "colab": {
   "provenance": []
  },
  "kernelspec": {
   "display_name": "Python 3 (ipykernel)",
   "language": "python",
   "name": "python3"
  },
  "language_info": {
   "codemirror_mode": {
    "name": "ipython",
    "version": 3
   },
   "file_extension": ".py",
   "mimetype": "text/x-python",
   "name": "python",
   "nbconvert_exporter": "python",
   "pygments_lexer": "ipython3",
   "version": "3.9.7"
  }
 },
 "nbformat": 4,
 "nbformat_minor": 4
}
